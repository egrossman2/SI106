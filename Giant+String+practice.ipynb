{
 "cells": [
  {
   "cell_type": "markdown",
   "metadata": {},
   "source": [
    "## Part 1 String practice \n",
    "We’ve fetched some bus stops from Ann Arbor TheRide bus data and consolidated them into one string named `bus_4_stops_string`. \n",
    "\n",
    "```python\n",
    "bus_4_stops_string = \"Adams + Washtenaw; Blake Transit Center; Cross + Ballard; Huron  + Ingalls; Huron + State; Washtenaw + Welman\"\n",
    "```\n"
   ]
  },
  {
   "cell_type": "markdown",
   "metadata": {},
   "source": [
    "## Finding your Stop\n",
    "TheRides needs your help to locate the below stops that are experiencing delays in services. \n",
    "- Blake Transit Center\n",
    "- Washtenaw + Welman\n",
    "\n",
    "### Stop and Code\n",
    "Initialize four variables named `btc_start`, `btc_end`,`ww_start`, and `ww_end` that are the indices you can use to slice `bus_4_stops_string` and find those stops.\n"
   ]
  },
  {
   "cell_type": "code",
   "execution_count": 18,
   "metadata": {},
   "outputs": [
    {
     "name": "stdout",
     "output_type": "stream",
     "text": [
      "Blake Transit Center\n",
      "Washtenaw + Welman\n"
     ]
    }
   ],
   "source": [
    "bus_4_stops_string = \"Adams + Washtenaw; Blake Transit Center; Cross + Ballard; Huron  + Ingalls; Huron + State; Washtenaw + Welman\"\n",
    "\n",
    "###\n",
    "### YOUR CODE HERE\n",
    "###\n",
    "\n",
    "btc_start = 19\n",
    "btc_end = 39\n",
    "ww_start = 91\n",
    "ww_end = 109\n",
    "\n",
    "print(bus_4_stops_string[btc_start:btc_end])\n",
    "print(bus_4_stops_string[ww_start:ww_end])"
   ]
  },
  {
   "cell_type": "markdown",
   "metadata": {},
   "source": [
    "# Thinking aheard\n",
    "What if the string was much longer?  What approaches would you use to find the names?  Ctrl+F? \n",
    "\n",
    "## Using [find()](https://www.w3schools.com/python/ref_string_find.asp]) vs [index()](https://www.w3schools.com/python/ref_string_index.asp)\n",
    "\n",
    "- find() will return the first occurrence of a string, or a -1 if the string isn't present\n",
    "- index() will return the first occurrent of a string, or cause an exception (Error)\n",
    "\n",
    "**When is an error better than -1?**\n",
    "\n",
    "If you didn't use find and len above, use them now."
   ]
  },
  {
   "cell_type": "code",
   "execution_count": 26,
   "metadata": {},
   "outputs": [
    {
     "name": "stdout",
     "output_type": "stream",
     "text": [
      "Blake Transit Center\n",
      "Washtenaw + Welman\n"
     ]
    }
   ],
   "source": [
    "###\n",
    "### YOUR CODE HERE\n",
    "###\n",
    "\n",
    "btc_start = bus_4_stops_string.find(\"Blake Transit Center\")\n",
    "btc_end = btc_start + len(\"Blake Transit Center\")\n",
    "ww_start = bus_4_stops_string.find(\"Washtenaw + Welman\")\n",
    "ww_end = ww_start + len(\"Washtenaw + Welman\")\n",
    "\n",
    "\n",
    "print(bus_4_stops_string[btc_start:btc_end])\n",
    "print(bus_4_stops_string[ww_start:ww_end])"
   ]
  },
  {
   "cell_type": "markdown",
   "metadata": {},
   "source": [
    "## Manipulating the strings\n",
    "Strings are immutable, that means they can not change.  If you do want to change a string you need to make a new version of it (with the same name).\n",
    "\n"
   ]
  },
  {
   "cell_type": "markdown",
   "metadata": {},
   "source": [
    "- In the cell below, change `bus_4_stops_string` so that every stop is in all uppercase letters."
   ]
  },
  {
   "cell_type": "code",
   "execution_count": 29,
   "metadata": {},
   "outputs": [
    {
     "name": "stdout",
     "output_type": "stream",
     "text": [
      "ADAMS + WASHTENAW; BLAKE TRANSIT CENTER; CROSS + BALLARD; HURON  + INGALLS; HURON + STATE; WASHTENAW + WELMAN\n"
     ]
    }
   ],
   "source": [
    "###\n",
    "### \n",
    "###\n",
    "\n",
    "print(bus_4_stops_string.upper())"
   ]
  },
  {
   "cell_type": "code",
   "execution_count": 8,
   "metadata": {
    "collapsed": true,
    "nbgrader": {
     "grade": false,
     "locked": false,
     "solution": false
    }
   },
   "outputs": [],
   "source": [
    "### BEGIN TESTS\n",
    "assert bus_4_stops_string == \"ADAMS + WASHTENAW; BLAKE TRANSIT CENTER; CROSS + BALLARD; HURON  + INGALLS; HURON + STATE; WASHTENAW + WELMAN\", \"Is the string in all capital letters?  Did you print it to check?\"\n",
    "### END TESTS"
   ]
  },
  {
   "cell_type": "markdown",
   "metadata": {},
   "source": [
    "- You decide that this is hard to read.  In the cell below, change `bus_4_stops_string` so that every stop is capitalized, but not in all caps."
   ]
  },
  {
   "cell_type": "code",
   "execution_count": 32,
   "metadata": {},
   "outputs": [
    {
     "name": "stdout",
     "output_type": "stream",
     "text": [
      "Adams + Washtenaw; Blake Transit Center; Cross + Ballard; Huron  + Ingalls; Huron + State; Washtenaw + Welman\n"
     ]
    }
   ],
   "source": [
    "###\n",
    "### YOUR CODE HERE\n",
    "###\n",
    "print(bus_4_stops_string.title())"
   ]
  },
  {
   "cell_type": "code",
   "execution_count": 10,
   "metadata": {
    "collapsed": true
   },
   "outputs": [],
   "source": [
    "### BEGIN TESTS\n",
    "assert bus_4_stops_string == \"Adams + Washtenaw; Blake Transit Center; Cross + Ballard; Huron  + Ingalls; Huron + State; Washtenaw + Welman\", \"Is the string in all capital letters?  Did you print it to check?\"\n",
    "### END TESTS"
   ]
  },
  {
   "cell_type": "markdown",
   "metadata": {},
   "source": [
    "### Better....\n",
    "but then you decide that you don't like the use of `+`.  In the cell below, change `bus_4_stops_string` to  replace the `+` with `and`.  There is a python str method for this."
   ]
  },
  {
   "cell_type": "code",
   "execution_count": 39,
   "metadata": {},
   "outputs": [
    {
     "name": "stdout",
     "output_type": "stream",
     "text": [
      "Adams and Washtenaw; Blake Transit Center; Cross and Ballard; Huron  and Ingalls; Huron and State; Washtenaw and Welman\n"
     ]
    }
   ],
   "source": [
    "###\n",
    "### YOUR CODE HERE\n",
    "###\n",
    "\n",
    "print(bus_4_stops_string.replace(\"+\", \"and\"))"
   ]
  },
  {
   "cell_type": "code",
   "execution_count": 12,
   "metadata": {
    "collapsed": true
   },
   "outputs": [],
   "source": [
    "### BEGIN TESTS\n",
    "assert bus_4_stops_string == \"Adams and Washtenaw; Blake Transit Center; Cross and Ballard; Huron  and Ingalls; Huron and State; Washtenaw and Welman\", \"Is the entire string in all capital letters or just the first work?  Did you print it to check?\"\n",
    "### END TESTS"
   ]
  },
  {
   "cell_type": "markdown",
   "metadata": {},
   "source": [
    "## Functions\n",
    "As you can imagine, data will come from lots of different places and it wouldn't be surprising to have data about may different routes.  Consider the following sample strings:\n",
    "\n",
    "```python\n",
    "rt3 = \"num:3 name:Huron River color:FFEEGG delay:0 location:[78.34234324, 543545334]\"\n",
    "rt4 = \"num:4 name:Washtenaw color:AA12G4 delay:0 location:[78.54234324, 543525334]\"\n",
    "rt5 = \"num:5 name:Packard color:GGEE03 delay:1 location:[78.34234342, 543545334]\"\n",
    "rt6 = \"num:6 name:Ellsworth color:13ACD4 delay:0 location:[78.34234543, 543545336]\"\n",
    "```\n",
    "\n",
    "Write the following functions to get the bus data"
   ]
  },
  {
   "cell_type": "code",
   "execution_count": 44,
   "metadata": {
    "collapsed": true
   },
   "outputs": [],
   "source": [
    "rt3 = \"num:3 name:Huron River color:FFEEGG delay:0 location:[78.34234324, 543545334]\"\n",
    "rt4 = \"num:4 name:Washtenaw color:AA12G4 delay:0 location:[78.54234324, 543525334]\"\n",
    "rt5 = \"num:5 name:Packard color:GGEE03 delay:1 location:[78.34234342, 543545334]\"\n",
    "rt6 = \"num:6 name:Ellsworth color:13ACD4 delay:0 location:[78.34234543, 543545336]\""
   ]
  },
  {
   "cell_type": "markdown",
   "metadata": {},
   "source": [
    "## get_route_num\n",
    "**Name:** get_route_num<br>\n",
    "**Argument:** - string (with single bus info)<br>\n",
    "**Return value:** - int - number of the bus, e.g `4`<br>"
   ]
  },
  {
   "cell_type": "code",
   "execution_count": 53,
   "metadata": {},
   "outputs": [
    {
     "name": "stdout",
     "output_type": "stream",
     "text": [
      "3 \n",
      "4 \n",
      "5 \n",
      "6 \n"
     ]
    },
    {
     "data": {
      "text/plain": [
       "6"
      ]
     },
     "execution_count": 53,
     "metadata": {},
     "output_type": "execute_result"
    }
   ],
   "source": [
    "def get_route_num(bus_info):\n",
    "    \"\"\"Return the route num.\n",
    "       Arguments: bus_info - A string in the format of \"num:<> name:<> color:<> delay:<> location:<>\"\n",
    "       Return value: int - number of the bus, e.g `4`\n",
    "    \"\"\"\n",
    "\n",
    "    ###\n",
    "    ### YOUR CODE HERE\n",
    "    ###\n",
    "    start = len(\"num:\")\n",
    "    end = bus_info.find(\"name:\")\n",
    "    print(bus_info[start:end])\n",
    "    return (int(bus_info[start:end]))\n",
    "\n",
    "    \n",
    "    \n",
    "### END SOLUTION\n",
    "\n",
    "\n",
    "\n",
    "\n",
    "### SAMPLE FUNCTION CALLS\n",
    "get_route_num(rt3)\n",
    "get_route_num(rt4)\n",
    "get_route_num(rt5)\n",
    "get_route_num(rt6)\n",
    "\n",
    "\n",
    "# Why does it only display 6?"
   ]
  },
  {
   "cell_type": "code",
   "execution_count": 46,
   "metadata": {},
   "outputs": [
    {
     "name": "stdout",
     "output_type": "stream",
     "text": [
      "num:3 name:Huron River color:FFEEGG delay:0 location:[78.34234324, 543545334]\n",
      "None\n",
      "num:4 name:Washtenaw color:AA12G4 delay:0 location:[78.54234324, 543525334]\n",
      "None\n",
      "num:5 name:Packard color:GGEE03 delay:1 location:[78.34234342, 543545334]\n",
      "None\n",
      "num:6 name:Ellsworth color:13ACD4 delay:0 location:[78.34234543, 543545336]\n",
      "None\n"
     ]
    }
   ],
   "source": [
    "## You want to print the value of the return value to really test your functions.\n",
    "print(get_route_num(rt3))\n",
    "print(get_route_num(rt4))\n",
    "print(get_route_num(rt5))\n",
    "print(get_route_num(rt6))"
   ]
  },
  {
   "cell_type": "code",
   "execution_count": 54,
   "metadata": {},
   "outputs": [
    {
     "name": "stdout",
     "output_type": "stream",
     "text": [
      "3 \n",
      "3 \n",
      "4 \n",
      "5 \n",
      "6 \n"
     ]
    }
   ],
   "source": [
    "### BEGIN TESTS\n",
    "\n",
    "assert type(get_route_num(rt3)) == int, f\"Was expecting an int value, got a {type(get_route_num(rt3))}\"\n",
    "assert get_route_num(rt3) == 3, \"Was expecting integer value 3 for Rt3\"\n",
    "assert get_route_num(rt4) == 4, \"Was expecting integer value 4 for Rt3\"\n",
    "assert get_route_num(rt5) == 5, \"Was expecting integer value 5 for Rt3\"\n",
    "assert get_route_num(rt6) == 6, \"Was expecting integer value 6 for Rt3\"\n",
    "\n",
    "### END TESTS"
   ]
  },
  {
   "cell_type": "markdown",
   "metadata": {},
   "source": [
    "## get_route_name\n",
    "**Name:** get_route_name<br>\n",
    "**Argument:** - string (with single bus info)<br>\n",
    "**Return value:** - string - name of the bus, e.g `\"Huron River\"`<br>\n"
   ]
  },
  {
   "cell_type": "code",
   "execution_count": 81,
   "metadata": {},
   "outputs": [
    {
     "name": "stdout",
     "output_type": "stream",
     "text": [
      "Huron River \n",
      "<built-in method strip of str object at 0x7f1386e8def0>\n",
      "Washtenaw \n",
      "<built-in method strip of str object at 0x7f1386e8def0>\n",
      "Packard \n",
      "<built-in method strip of str object at 0x7f1386f69b30>\n",
      "Ellsworth \n",
      "<built-in method strip of str object at 0x7f1386f69b30>\n"
     ]
    }
   ],
   "source": [
    "def get_route_name(bus_info):\n",
    "    \"\"\"Return the route name.\n",
    "       Arguments: bus_info - A string in the format of \"num:<> name:<> color:<> delay:<> location:<>\"\n",
    "       Return value: string - name of the bus, e.g `\"Huron River\"`\n",
    "    \"\"\"\n",
    "\n",
    "    ###\n",
    "    ### YOUR CODE HERE\n",
    "    ###\n",
    "    start = int(bus_info.find(\"name:\") + len(\"name:\"))\n",
    "    end = bus_info.find(\"color:\")\n",
    "    print(bus_info[start:end])\n",
    "    return ((bus_info[start:end].strip))\n",
    "\n",
    "print(get_route_name(rt3))\n",
    "print(get_route_name(rt4))\n",
    "print(get_route_name(rt5))\n",
    "print(get_route_name(rt6))"
   ]
  },
  {
   "cell_type": "code",
   "execution_count": 70,
   "metadata": {},
   "outputs": [
    {
     "name": "stdout",
     "output_type": "stream",
     "text": [
      "Huron River \n"
     ]
    },
    {
     "ename": "AssertionError",
     "evalue": "Was expecting Huron River for Rt3",
     "output_type": "error",
     "traceback": [
      "\u001b[0;31m---------------------------------------------------------------------------\u001b[0m",
      "\u001b[0;31mAssertionError\u001b[0m                            Traceback (most recent call last)",
      "\u001b[0;32m<ipython-input-70-5af7802a90d2>\u001b[0m in \u001b[0;36m<module>\u001b[0;34m\u001b[0m\n\u001b[1;32m      1\u001b[0m \u001b[0;31m### BEGIN TESTS\u001b[0m\u001b[0;34m\u001b[0m\u001b[0;34m\u001b[0m\u001b[0;34m\u001b[0m\u001b[0m\n\u001b[0;32m----> 2\u001b[0;31m \u001b[0;32massert\u001b[0m \u001b[0mget_route_name\u001b[0m\u001b[0;34m(\u001b[0m\u001b[0mrt3\u001b[0m\u001b[0;34m)\u001b[0m \u001b[0;34m==\u001b[0m \u001b[0;34m\"Huron River\"\u001b[0m\u001b[0;34m,\u001b[0m \u001b[0;34m\"Was expecting Huron River for Rt3\"\u001b[0m\u001b[0;34m\u001b[0m\u001b[0;34m\u001b[0m\u001b[0m\n\u001b[0m\u001b[1;32m      3\u001b[0m \u001b[0;32massert\u001b[0m \u001b[0mget_route_name\u001b[0m\u001b[0;34m(\u001b[0m\u001b[0mrt4\u001b[0m\u001b[0;34m)\u001b[0m \u001b[0;34m==\u001b[0m \u001b[0;34m\"Washtenaw\"\u001b[0m\u001b[0;34m,\u001b[0m  \u001b[0;34m\"Was expecting Washtenaw for Rt4\"\u001b[0m\u001b[0;34m\u001b[0m\u001b[0;34m\u001b[0m\u001b[0m\n\u001b[1;32m      4\u001b[0m \u001b[0;32massert\u001b[0m \u001b[0mget_route_name\u001b[0m\u001b[0;34m(\u001b[0m\u001b[0mrt5\u001b[0m\u001b[0;34m)\u001b[0m \u001b[0;34m==\u001b[0m \u001b[0;34m\"Packard\"\u001b[0m\u001b[0;34m,\u001b[0m  \u001b[0;34m\"Was expecting Packard for Rt5\"\u001b[0m\u001b[0;34m\u001b[0m\u001b[0;34m\u001b[0m\u001b[0m\n\u001b[1;32m      5\u001b[0m \u001b[0;32massert\u001b[0m \u001b[0mget_route_name\u001b[0m\u001b[0;34m(\u001b[0m\u001b[0mrt6\u001b[0m\u001b[0;34m)\u001b[0m \u001b[0;34m==\u001b[0m \u001b[0;34m\"Ellsworth\"\u001b[0m\u001b[0;34m,\u001b[0m  \u001b[0;34m\"Was expecting Ellsworth for Rt6\"\u001b[0m\u001b[0;34m\u001b[0m\u001b[0;34m\u001b[0m\u001b[0m\n",
      "\u001b[0;31mAssertionError\u001b[0m: Was expecting Huron River for Rt3"
     ]
    }
   ],
   "source": [
    "### BEGIN TESTS\n",
    "assert get_route_name(rt3) == \"Huron River\", \"Was expecting Huron River for Rt3\"\n",
    "assert get_route_name(rt4) == \"Washtenaw\",  \"Was expecting Washtenaw for Rt4\"\n",
    "assert get_route_name(rt5) == \"Packard\",  \"Was expecting Packard for Rt5\"\n",
    "assert get_route_name(rt6) == \"Ellsworth\",  \"Was expecting Ellsworth for Rt6\"\n",
    "\n",
    "### END TESTS"
   ]
  },
  {
   "cell_type": "markdown",
   "metadata": {},
   "source": [
    "## get_route_color\n",
    "**Name:** get_route_color<br>\n",
    "**Argument:** - string (with single bus info)<br>\n",
    "**Return value:** - str - the color of the bus with the hashtag preceeding the value, e.g `\"#FFEEGG\"`<br>"
   ]
  },
  {
   "cell_type": "code",
   "execution_count": 78,
   "metadata": {},
   "outputs": [
    {
     "name": "stdout",
     "output_type": "stream",
     "text": [
      "FFEEGG \n",
      "FFEEGG \n",
      "AA12G4 \n",
      "AA12G4 \n",
      "GGEE03 \n",
      "GGEE03 \n",
      "13ACD4 \n",
      "13ACD4 \n"
     ]
    }
   ],
   "source": [
    "###\n",
    "### YOUR CODE HERE\n",
    "###\n",
    "def get_route_color(bus_info):\n",
    "\n",
    "    start = int(bus_info.find(\"color:\") + len(\"color:\"))\n",
    "    end = bus_info.find(\"delay:\")\n",
    "    print(bus_info[start:end])\n",
    "    return ((bus_info[start:end]))\n",
    "\n",
    "print(get_route_color(rt3))\n",
    "print(get_route_color(rt4))\n",
    "print(get_route_color(rt5))\n",
    "print(get_route_color(rt6))"
   ]
  },
  {
   "cell_type": "code",
   "execution_count": 79,
   "metadata": {},
   "outputs": [
    {
     "name": "stdout",
     "output_type": "stream",
     "text": [
      "FFEEGG \n"
     ]
    },
    {
     "ename": "AssertionError",
     "evalue": "Was expecting #FFEEGG for Rt3",
     "output_type": "error",
     "traceback": [
      "\u001b[0;31m---------------------------------------------------------------------------\u001b[0m",
      "\u001b[0;31mAssertionError\u001b[0m                            Traceback (most recent call last)",
      "\u001b[0;32m<ipython-input-79-16737c563de7>\u001b[0m in \u001b[0;36m<module>\u001b[0;34m\u001b[0m\n\u001b[1;32m      1\u001b[0m \u001b[0;31m### BEGIN TESTS\u001b[0m\u001b[0;34m\u001b[0m\u001b[0;34m\u001b[0m\u001b[0;34m\u001b[0m\u001b[0m\n\u001b[0;32m----> 2\u001b[0;31m \u001b[0;32massert\u001b[0m \u001b[0mget_route_color\u001b[0m\u001b[0;34m(\u001b[0m\u001b[0mrt3\u001b[0m\u001b[0;34m)\u001b[0m \u001b[0;34m==\u001b[0m \u001b[0;34m\"#FFEEGG\"\u001b[0m\u001b[0;34m,\u001b[0m \u001b[0;34m\"Was expecting #FFEEGG for Rt3\"\u001b[0m\u001b[0;34m\u001b[0m\u001b[0;34m\u001b[0m\u001b[0m\n\u001b[0m\u001b[1;32m      3\u001b[0m \u001b[0;32massert\u001b[0m \u001b[0mget_route_color\u001b[0m\u001b[0;34m(\u001b[0m\u001b[0mrt4\u001b[0m\u001b[0;34m)\u001b[0m \u001b[0;34m==\u001b[0m \u001b[0;34m\"#AA12G4\"\u001b[0m\u001b[0;34m,\u001b[0m  \u001b[0;34m\"Was expecting #AA12G4 for Rt4\"\u001b[0m\u001b[0;34m\u001b[0m\u001b[0;34m\u001b[0m\u001b[0m\n\u001b[1;32m      4\u001b[0m \u001b[0;32massert\u001b[0m \u001b[0mget_route_color\u001b[0m\u001b[0;34m(\u001b[0m\u001b[0mrt5\u001b[0m\u001b[0;34m)\u001b[0m \u001b[0;34m==\u001b[0m \u001b[0;34m\"#GGEE03\"\u001b[0m\u001b[0;34m,\u001b[0m  \u001b[0;34m\"Was expecting #GGEE03 for Rt5\"\u001b[0m\u001b[0;34m\u001b[0m\u001b[0;34m\u001b[0m\u001b[0m\n\u001b[1;32m      5\u001b[0m \u001b[0;32massert\u001b[0m \u001b[0mget_route_color\u001b[0m\u001b[0;34m(\u001b[0m\u001b[0mrt6\u001b[0m\u001b[0;34m)\u001b[0m \u001b[0;34m==\u001b[0m \u001b[0;34m\"#13ACD4\"\u001b[0m\u001b[0;34m,\u001b[0m  \u001b[0;34m\"Was expecting #13ACD4 for Rt6\"\u001b[0m\u001b[0;34m\u001b[0m\u001b[0;34m\u001b[0m\u001b[0m\n",
      "\u001b[0;31mAssertionError\u001b[0m: Was expecting #FFEEGG for Rt3"
     ]
    }
   ],
   "source": [
    "### BEGIN TESTS\n",
    "assert get_route_color(rt3) == \"#FFEEGG\", \"Was expecting #FFEEGG for Rt3\"\n",
    "assert get_route_color(rt4) == \"#AA12G4\",  \"Was expecting #AA12G4 for Rt4\"\n",
    "assert get_route_color(rt5) == \"#GGEE03\",  \"Was expecting #GGEE03 for Rt5\"\n",
    "assert get_route_color(rt6) == \"#13ACD4\",  \"Was expecting #13ACD4 for Rt6\"\n",
    "\n",
    "### END TESTS"
   ]
  },
  {
   "cell_type": "markdown",
   "metadata": {},
   "source": [
    "## get_route_delay\n",
    "**Name:** get_route_delay<br>\n",
    "**Argument:** - string (with single bus info)<br>\n",
    "**Return value:** - bool - `True` if the bus is delayed - `False` otherwise.<br>"
   ]
  },
  {
   "cell_type": "code",
   "execution_count": 23,
   "metadata": {
    "collapsed": true
   },
   "outputs": [],
   "source": [
    "###\n",
    "### YOUR CODE HERE\n",
    "###\n",
    "\n",
    "\n",
    "### ADD YOUR OWN FUNCTION CALLS\n"
   ]
  },
  {
   "cell_type": "code",
   "execution_count": 56,
   "metadata": {
    "collapsed": true,
    "nbgrader": {
     "grade": false,
     "locked": false,
     "solution": false
    }
   },
   "outputs": [],
   "source": [
    "### BEGIN TESTS\n",
    "assert type(get_route_delay(rt3)) == bool, f\"Was expecting a bool value, got a {type(get_route_delay(rt3))}\"\n",
    "assert get_route_delay(rt3) == False, \"Was expecting #FFEEGG for Rt3\"\n",
    "assert get_route_delay(rt4) == False,  \"Was expecting #AA12G4 for Rt4\"\n",
    "assert get_route_delay(rt5) == True,  \"Was expecting #GGEE03 for Rt5\"\n",
    "assert get_route_delay(rt6) == False,  \"Was expecting #13ACD4 for Rt6\"\n",
    "\n",
    "### END TESTS"
   ]
  },
  {
   "cell_type": "markdown",
   "metadata": {},
   "source": [
    "## get_route_location\n",
    "**Name:** get_route_location<br>\n",
    "**Argument:** - string (with single bus info)<br>\n",
    "**Return value:** - list<br>\n",
    "\n",
    "Create two variables `lat` and `long` that use the get_route_location function to get the latitute and longitude of a bus."
   ]
  },
  {
   "cell_type": "code",
   "execution_count": 57,
   "metadata": {
    "collapsed": true
   },
   "outputs": [],
   "source": [
    "###\n",
    "### YOUR CODE HERE\n",
    "###\n",
    "\n",
    "\n",
    "### ADD YOUR OWN FUNCTION CALLS\n",
    "print(get_route_location(rt3))\n",
    "print(get_route_location(rt4))\n",
    "print(get_route_location(rt5))\n",
    "print(get_route_location(rt6))"
   ]
  },
  {
   "cell_type": "code",
   "execution_count": 58,
   "metadata": {
    "collapsed": true
   },
   "outputs": [],
   "source": [
    "### BEGIN TESTS\n",
    "assert type(get_route_location(rt3)) == list, f\"Was expecting a list value, got a {type(get_route_location(rt3))}\"\n",
    "assert get_route_location(rt3) == ['78.34234324', ' 543545334'], \"Was expecting ['78.34234324', ' 543545334'] for Rt3\"\n",
    "assert get_route_location(rt4) == ['78.54234324', ' 543525334'],  \"Was expecting ['78.54234324', ' 543525334'] for Rt4\"\n",
    "assert get_route_location(rt5) == ['78.34234342', ' 543545334'],  \"Was expecting ['78.34234342', ' 543545334'] for Rt5\"\n",
    "assert get_route_location(rt6) == ['78.34234543', ' 543545336'],  \"Was expecting #['78.34234543', ' 543545336'] for Rt6\"\n",
    "\n",
    "### END HIDDEN TESTS"
   ]
  },
  {
   "cell_type": "markdown",
   "metadata": {},
   "source": [
    "Create two variables `lat` and `long` that use the get_route_location function to get the latitute and longitude of rt4"
   ]
  },
  {
   "cell_type": "code",
   "execution_count": 59,
   "metadata": {
    "collapsed": true
   },
   "outputs": [],
   "source": [
    "###\n",
    "### YOUR CODE HERE\n",
    "###\n",
    "\n",
    "\n",
    "\n",
    "### CHECK YOUR VALUES\n",
    "\n"
   ]
  },
  {
   "cell_type": "code",
   "execution_count": 60,
   "metadata": {
    "collapsed": true
   },
   "outputs": [],
   "source": [
    "### BEGIN TESTS\n",
    "assert lat == 78.54234324\n",
    "assert long == 543525334.0\n",
    "### END TESTS"
   ]
  }
 ],
 "metadata": {
  "kernelspec": {
   "display_name": "Python 3.8",
   "language": "python",
   "name": "python38"
  },
  "language_info": {
   "codemirror_mode": {
    "name": "ipython",
    "version": 3
   },
   "file_extension": ".py",
   "mimetype": "text/x-python",
   "name": "python",
   "nbconvert_exporter": "python",
   "pygments_lexer": "ipython3",
   "version": "3.8.7"
  }
 },
 "nbformat": 4,
 "nbformat_minor": 2
}
